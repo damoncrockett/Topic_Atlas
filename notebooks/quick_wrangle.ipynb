{
 "cells": [
  {
   "cell_type": "code",
   "execution_count": 1,
   "metadata": {
    "collapsed": true
   },
   "outputs": [],
   "source": [
    "import pandas as pd"
   ]
  },
  {
   "cell_type": "code",
   "execution_count": 2,
   "metadata": {
    "collapsed": true
   },
   "outputs": [],
   "source": [
    "df = pd.read_csv(\"./twitter_metadata_11_country_computed_cw.csv\")"
   ]
  },
  {
   "cell_type": "code",
   "execution_count": 3,
   "metadata": {
    "collapsed": false
   },
   "outputs": [
    {
     "name": "stdout",
     "output_type": "stream",
     "text": [
      "<class 'pandas.core.frame.DataFrame'>\n",
      "Int64Index: 2030833 entries, 0 to 2030832\n",
      "Data columns (total 17 columns):\n",
      "display_url            object\n",
      "media_url              object\n",
      "size_h                 int64\n",
      "size_w                 int64\n",
      "lat                    float64\n",
      "lon                    float64\n",
      "favoritesCount         int64\n",
      "followersCount         int64\n",
      "friendsCount           int64\n",
      "statusesCount          int64\n",
      "profile_url            object\n",
      "post_url               object\n",
      "img_url                object\n",
      "postedTime             object\n",
      "location               object\n",
      "country                object\n",
      "country_computed_cw    object\n",
      "dtypes: float64(2), int64(6), object(9)\n",
      "memory usage: 278.9+ MB\n"
     ]
    }
   ],
   "source": [
    "df.info()"
   ]
  },
  {
   "cell_type": "code",
   "execution_count": 4,
   "metadata": {
    "collapsed": true
   },
   "outputs": [],
   "source": [
    "cols = ['lat','lon','country_computed_cw']\n",
    "df = df[cols]\n",
    "df.to_csv(\"./test_cw.csv\",index=False)"
   ]
  },
  {
   "cell_type": "code",
   "execution_count": 5,
   "metadata": {
    "collapsed": false
   },
   "outputs": [
    {
     "data": {
      "text/plain": [
       "unplaced    2030833\n",
       "dtype: int64"
      ]
     },
     "execution_count": 5,
     "metadata": {},
     "output_type": "execute_result"
    }
   ],
   "source": [
    "df.country_computed_cw.value_counts()"
   ]
  },
  {
   "cell_type": "code",
   "execution_count": null,
   "metadata": {
    "collapsed": true
   },
   "outputs": [],
   "source": []
  }
 ],
 "metadata": {
  "kernelspec": {
   "display_name": "Python 2",
   "language": "python",
   "name": "python2"
  },
  "language_info": {
   "codemirror_mode": {
    "name": "ipython",
    "version": 2
   },
   "file_extension": ".py",
   "mimetype": "text/x-python",
   "name": "python",
   "nbconvert_exporter": "python",
   "pygments_lexer": "ipython2",
   "version": "2.7.10"
  }
 },
 "nbformat": 4,
 "nbformat_minor": 0
}
