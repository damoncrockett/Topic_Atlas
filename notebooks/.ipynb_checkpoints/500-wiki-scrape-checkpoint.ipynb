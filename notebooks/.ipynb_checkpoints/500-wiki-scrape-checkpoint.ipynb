{
 "cells": [
  {
   "cell_type": "code",
   "execution_count": 1,
   "metadata": {
    "collapsed": true
   },
   "outputs": [],
   "source": [
    "from bs4 import BeautifulSoup\n",
    "import pandas as pd\n",
    "import requests\n",
    "import numpy as np"
   ]
  },
  {
   "cell_type": "code",
   "execution_count": 2,
   "metadata": {
    "collapsed": true
   },
   "outputs": [],
   "source": [
    "urls = [\n",
    "    \"https://web.archive.org/web/20111206212135/https://en.wikipedia.org/wiki/List_of_urban_areas_by_population\",\n",
    "    \"https://web.archive.org/web/20121211193049/https://en.wikipedia.org/wiki/List_of_urban_areas_by_population\",\n",
    "    \"https://web.archive.org/web/20130608064949/https://en.wikipedia.org/wiki/List_of_urban_areas_by_population\",\n",
    "    \"https://web.archive.org/web/20150506171808/http://en.wikipedia.org/wiki/List_of_urban_areas_by_population\"\n",
    "]"
   ]
  },
  {
   "cell_type": "markdown",
   "metadata": {},
   "source": [
    "## 2011"
   ]
  },
  {
   "cell_type": "code",
   "execution_count": 54,
   "metadata": {
    "collapsed": true
   },
   "outputs": [],
   "source": [
    "url = urls[0]\n",
    "page = requests.get(url).text\n",
    "soup = BeautifulSoup(page, 'html.parser')\n",
    "cell = soup.find('table', {'class' : 'wikitable sortable'})\n",
    "rows = cell.find_all('tr')"
   ]
  },
  {
   "cell_type": "code",
   "execution_count": 62,
   "metadata": {
    "collapsed": true
   },
   "outputs": [],
   "source": [
    "city = []\n",
    "country = []\n",
    "pop = []\n",
    "density = []"
   ]
  },
  {
   "cell_type": "code",
   "execution_count": 64,
   "metadata": {
    "collapsed": true
   },
   "outputs": [],
   "source": [
    "for row in rows[1:]:\n",
    "    cols = row.find_all('td')\n",
    "    city.append(cols[1].get_text())\n",
    "    country.append(cols[2].get_text())\n",
    "    pop.append(cols[3].get_text())\n",
    "    density.append(cols[5].get_text())"
   ]
  },
  {
   "cell_type": "code",
   "execution_count": 73,
   "metadata": {
    "collapsed": false
   },
   "outputs": [],
   "source": [
    "city = [item.rstrip(\"1234567890[]\") for item in city]"
   ]
  },
  {
   "cell_type": "code",
   "execution_count": 74,
   "metadata": {
    "collapsed": false
   },
   "outputs": [],
   "source": [
    "df = pd.DataFrame({\n",
    "        \"city\":city,\n",
    "        \"country\":country,\n",
    "        \"pop\":pop,\n",
    "        \"density\":density\n",
    "    })"
   ]
  },
  {
   "cell_type": "code",
   "execution_count": 77,
   "metadata": {
    "collapsed": false
   },
   "outputs": [],
   "source": [
    "df.to_csv(\"../tables/demographia_2011.csv\",index=False,encoding='utf-8')"
   ]
  },
  {
   "cell_type": "markdown",
   "metadata": {},
   "source": [
    "## 2012"
   ]
  },
  {
   "cell_type": "code",
   "execution_count": 78,
   "metadata": {
    "collapsed": true
   },
   "outputs": [],
   "source": [
    "url = urls[1]\n",
    "page = requests.get(url).text\n",
    "soup = BeautifulSoup(page, 'html.parser')\n",
    "cell = soup.find('table', {'class' : 'wikitable sortable'})\n",
    "rows = cell.find_all('tr')"
   ]
  },
  {
   "cell_type": "code",
   "execution_count": 79,
   "metadata": {
    "collapsed": true
   },
   "outputs": [],
   "source": [
    "city = []\n",
    "country = []\n",
    "pop = []\n",
    "density = []"
   ]
  },
  {
   "cell_type": "code",
   "execution_count": 81,
   "metadata": {
    "collapsed": true
   },
   "outputs": [],
   "source": [
    "for row in rows[1:]:\n",
    "    cols = row.find_all('td')\n",
    "    city.append(cols[1].get_text())\n",
    "    country.append(cols[2].get_text())\n",
    "    pop.append(cols[3].get_text())\n",
    "    density.append(cols[5].get_text())\n",
    "city = [item.rstrip(\"1234567890[]\") for item in city]"
   ]
  },
  {
   "cell_type": "code",
   "execution_count": 82,
   "metadata": {
    "collapsed": true
   },
   "outputs": [],
   "source": [
    "df = pd.DataFrame({\n",
    "        \"city\":city,\n",
    "        \"country\":country,\n",
    "        \"pop\":pop,\n",
    "        \"density\":density\n",
    "    })"
   ]
  },
  {
   "cell_type": "code",
   "execution_count": 84,
   "metadata": {
    "collapsed": false
   },
   "outputs": [],
   "source": [
    "df.to_csv(\"../tables/demographia_2012.csv\",index=False,encoding='utf-8')"
   ]
  },
  {
   "cell_type": "markdown",
   "metadata": {},
   "source": [
    "## 2013"
   ]
  },
  {
   "cell_type": "code",
   "execution_count": 85,
   "metadata": {
    "collapsed": true
   },
   "outputs": [],
   "source": [
    "url = urls[2]\n",
    "page = requests.get(url).text\n",
    "soup = BeautifulSoup(page, 'html.parser')\n",
    "cell = soup.find('table', {'class' : 'wikitable sortable'})\n",
    "rows = cell.find_all('tr')"
   ]
  },
  {
   "cell_type": "code",
   "execution_count": 86,
   "metadata": {
    "collapsed": true
   },
   "outputs": [],
   "source": [
    "city = []\n",
    "country = []\n",
    "pop = []\n",
    "density = []"
   ]
  },
  {
   "cell_type": "code",
   "execution_count": 87,
   "metadata": {
    "collapsed": true
   },
   "outputs": [],
   "source": [
    "for row in rows[1:]:\n",
    "    cols = row.find_all('td')\n",
    "    city.append(cols[1].get_text())\n",
    "    country.append(cols[2].get_text())\n",
    "    pop.append(cols[3].get_text())\n",
    "    density.append(cols[5].get_text())\n",
    "city = [item.rstrip(\"1234567890[]\") for item in city]"
   ]
  },
  {
   "cell_type": "code",
   "execution_count": 88,
   "metadata": {
    "collapsed": true
   },
   "outputs": [],
   "source": [
    "df = pd.DataFrame({\n",
    "        \"city\":city,\n",
    "        \"country\":country,\n",
    "        \"pop\":pop,\n",
    "        \"density\":density\n",
    "    })"
   ]
  },
  {
   "cell_type": "code",
   "execution_count": 90,
   "metadata": {
    "collapsed": true
   },
   "outputs": [],
   "source": [
    "df.to_csv(\"../tables/demographia_2013.csv\",index=False,encoding='utf-8')"
   ]
  },
  {
   "cell_type": "markdown",
   "metadata": {},
   "source": [
    "## 2014"
   ]
  },
  {
   "cell_type": "code",
   "execution_count": 91,
   "metadata": {
    "collapsed": true
   },
   "outputs": [],
   "source": [
    "url = urls[3]\n",
    "page = requests.get(url).text\n",
    "soup = BeautifulSoup(page, 'html.parser')\n",
    "cell = soup.find('table', {'class' : 'wikitable sortable'})\n",
    "rows = cell.find_all('tr')"
   ]
  },
  {
   "cell_type": "code",
   "execution_count": 103,
   "metadata": {
    "collapsed": true
   },
   "outputs": [],
   "source": [
    "city = []\n",
    "country = []\n",
    "pop = []\n",
    "density = []"
   ]
  },
  {
   "cell_type": "code",
   "execution_count": 104,
   "metadata": {
    "collapsed": true
   },
   "outputs": [],
   "source": [
    "for row in rows[1:]:\n",
    "    cols = row.find_all('td')\n",
    "    city.append(cols[2].get_text())\n",
    "    country.append(cols[3].get_text())\n",
    "    pop.append(cols[4].get_text())\n",
    "    density.append(cols[6].get_text())\n",
    "city = [item.rstrip(\"1234567890[]\") for item in city]"
   ]
  },
  {
   "cell_type": "code",
   "execution_count": 105,
   "metadata": {
    "collapsed": true
   },
   "outputs": [],
   "source": [
    "df = pd.DataFrame({\n",
    "        \"city\":city,\n",
    "        \"country\":country,\n",
    "        \"pop\":pop,\n",
    "        \"density\":density\n",
    "    })"
   ]
  },
  {
   "cell_type": "code",
   "execution_count": 107,
   "metadata": {
    "collapsed": true
   },
   "outputs": [],
   "source": [
    "df.to_csv(\"../tables/demographia_2014.csv\",index=False,encoding='utf-8')"
   ]
  }
 ],
 "metadata": {
  "kernelspec": {
   "display_name": "Python 2",
   "language": "python",
   "name": "python2"
  },
  "language_info": {
   "codemirror_mode": {
    "name": "ipython",
    "version": 2
   },
   "file_extension": ".py",
   "mimetype": "text/x-python",
   "name": "python",
   "nbconvert_exporter": "python",
   "pygments_lexer": "ipython2",
   "version": "2.7.10"
  }
 },
 "nbformat": 4,
 "nbformat_minor": 0
}
