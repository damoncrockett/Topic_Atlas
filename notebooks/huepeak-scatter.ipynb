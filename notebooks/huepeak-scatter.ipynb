{
 "cells": [
  {
   "cell_type": "code",
   "execution_count": 1,
   "metadata": {
    "collapsed": true
   },
   "outputs": [],
   "source": [
    "import pandas as pd\n",
    "pd.options.mode.chained_assignment = None\n",
    "from PIL import Image\n",
    "import os\n",
    "import glob"
   ]
  },
  {
   "cell_type": "code",
   "execution_count": 2,
   "metadata": {
    "collapsed": true
   },
   "outputs": [],
   "source": [
    "df = pd.read_csv(\"./city-list-count-10km-img-tz.csv\")"
   ]
  },
  {
   "cell_type": "code",
   "execution_count": 3,
   "metadata": {
    "collapsed": true
   },
   "outputs": [],
   "source": [
    "DIR = \"/Users/damoncrockett/Desktop/huepeak/plots/\""
   ]
  },
  {
   "cell_type": "code",
   "execution_count": 4,
   "metadata": {
    "collapsed": false
   },
   "outputs": [],
   "source": [
    "vislist = glob.glob(os.path.join(DIR,\"*.png\"))"
   ]
  },
  {
   "cell_type": "code",
   "execution_count": 5,
   "metadata": {
    "collapsed": true
   },
   "outputs": [],
   "source": [
    "d = pd.DataFrame()"
   ]
  },
  {
   "cell_type": "code",
   "execution_count": 6,
   "metadata": {
    "collapsed": true
   },
   "outputs": [],
   "source": [
    "d['local_path'] = vislist\n",
    "d['Center'] = [os.path.basename(item).split(\"_\")[0] for item in vislist]\n",
    "d['year'] = [os.path.basename(item).split(\"_\")[1] for item in vislist]\n",
    "d['total_slices'] = [os.path.basename(item).split(\"_\")[2][:-4] for item in vislist]"
   ]
  },
  {
   "cell_type": "code",
   "execution_count": 7,
   "metadata": {
    "collapsed": true
   },
   "outputs": [],
   "source": [
    "d.total_slices = d.total_slices.apply(int)"
   ]
  },
  {
   "cell_type": "code",
   "execution_count": 8,
   "metadata": {
    "collapsed": false
   },
   "outputs": [],
   "source": [
    "d12 = d[d.year=='2012']\n",
    "d14 = d[d.year=='2014']"
   ]
  },
  {
   "cell_type": "code",
   "execution_count": 9,
   "metadata": {
    "collapsed": true
   },
   "outputs": [],
   "source": [
    "df.set_index(\"Center\",inplace=True)"
   ]
  },
  {
   "cell_type": "code",
   "execution_count": 10,
   "metadata": {
    "collapsed": true
   },
   "outputs": [],
   "source": [
    "d12 = d12.join(df,on=\"Center\")\n",
    "d14 = d14.join(df,on=\"Center\")"
   ]
  },
  {
   "cell_type": "markdown",
   "metadata": {},
   "source": [
    "# Scatter"
   ]
  },
  {
   "cell_type": "code",
   "execution_count": 11,
   "metadata": {
    "collapsed": false
   },
   "outputs": [],
   "source": [
    "d = d.join(df,on='Center')"
   ]
  },
  {
   "cell_type": "code",
   "execution_count": 12,
   "metadata": {
    "collapsed": false
   },
   "outputs": [
    {
     "name": "stdout",
     "output_type": "stream",
     "text": [
      "-118.2436849 -34.9011127 151.2069902 60.1698557\n"
     ]
    }
   ],
   "source": [
    "print d.lon.min(),d.lat.min(),d.lon.max(),d.lat.max()"
   ]
  },
  {
   "cell_type": "code",
   "execution_count": 13,
   "metadata": {
    "collapsed": true
   },
   "outputs": [],
   "source": [
    "latmin,latmax,lonmin,lonmax = -90,90,-180,180"
   ]
  },
  {
   "cell_type": "code",
   "execution_count": 14,
   "metadata": {
    "collapsed": false
   },
   "outputs": [],
   "source": [
    "latrange = latmax-latmin\n",
    "lonrange = lonmax-lonmin"
   ]
  },
  {
   "cell_type": "code",
   "execution_count": 15,
   "metadata": {
    "collapsed": true
   },
   "outputs": [],
   "source": [
    "scale = 100"
   ]
  },
  {
   "cell_type": "code",
   "execution_count": 16,
   "metadata": {
    "collapsed": false
   },
   "outputs": [],
   "source": [
    "px_w = lonrange * scale\n",
    "px_h = latrange * scale"
   ]
  },
  {
   "cell_type": "code",
   "execution_count": 17,
   "metadata": {
    "collapsed": false
   },
   "outputs": [
    {
     "data": {
      "text/plain": [
       "\"\\nfor i in d12.index:\\n    filepath = d12.local_path.loc[i]\\n    im = Image.open(filepath)\\n        \\n    lat = d12.lat.loc[i]\\n    lon = d12.lon.loc[i]\\n    \\n    xcoord = int(round( (lon + lonmax) * scale ))\\n    ycoord = int(round( (latmax - lat) * scale ))\\n    \\n    canvas.paste(im,(xcoord,ycoord))\\n\\ncanvas.save('/Users/damoncrockett/Desktop/tmp.png')\\n\""
      ]
     },
     "execution_count": 17,
     "metadata": {},
     "output_type": "execute_result"
    }
   ],
   "source": [
    "\"\"\"\n",
    "for i in d12.index:\n",
    "    filepath = d12.local_path.loc[i]\n",
    "    im = Image.open(filepath)\n",
    "        \n",
    "    lat = d12.lat.loc[i]\n",
    "    lon = d12.lon.loc[i]\n",
    "    \n",
    "    xcoord = int(round( (lon + lonmax) * scale ))\n",
    "    ycoord = int(round( (latmax - lat) * scale ))\n",
    "    \n",
    "    canvas.paste(im,(xcoord,ycoord))\n",
    "\n",
    "canvas.save('/Users/damoncrockett/Desktop/tmp.png')\n",
    "\"\"\""
   ]
  },
  {
   "cell_type": "markdown",
   "metadata": {},
   "source": [
    "# Histogram"
   ]
  },
  {
   "cell_type": "code",
   "execution_count": 18,
   "metadata": {
    "collapsed": false
   },
   "outputs": [],
   "source": [
    "w = []\n",
    "h = []\n",
    "for i in d.index:\n",
    "    filepath = d.local_path.loc[i]\n",
    "    im = Image.open(filepath)\n",
    "    w.append(im.width)\n",
    "    h.append(im.height)\n",
    "\n",
    "d['w'] = w\n",
    "d['h'] = h"
   ]
  },
  {
   "cell_type": "code",
   "execution_count": 19,
   "metadata": {
    "collapsed": false
   },
   "outputs": [
    {
     "name": "stdout",
     "output_type": "stream",
     "text": [
      "1848 1848\n"
     ]
    }
   ],
   "source": [
    "print d.w.max(),d.h.max()"
   ]
  },
  {
   "cell_type": "code",
   "execution_count": 20,
   "metadata": {
    "collapsed": false
   },
   "outputs": [],
   "source": [
    "d12bins = list(d12.offset.unique())\n",
    "d12bins.sort()"
   ]
  },
  {
   "cell_type": "code",
   "execution_count": 21,
   "metadata": {
    "collapsed": true
   },
   "outputs": [],
   "source": [
    "d14bins = list(d14.offset.unique())\n",
    "d14bins.sort()"
   ]
  },
  {
   "cell_type": "code",
   "execution_count": 22,
   "metadata": {
    "collapsed": true
   },
   "outputs": [],
   "source": [
    "px_w = len(d14bins) * 1848\n",
    "px_h = d14.groupby(\"offset\").size().max() * 1848 "
   ]
  },
  {
   "cell_type": "code",
   "execution_count": 27,
   "metadata": {
    "collapsed": true
   },
   "outputs": [],
   "source": [
    "canvas = Image.new('RGB',(px_w,px_h),(100,100,100))"
   ]
  },
  {
   "cell_type": "code",
   "execution_count": 28,
   "metadata": {
    "collapsed": false
   },
   "outputs": [],
   "source": [
    "counter = -1\n",
    "for d14bin in d14bins:\n",
    "    counter+=1\n",
    "    tmp = d14[d14.offset==d14bin]\n",
    "    tmp.sort_values(by=\"lat\",inplace=True)\n",
    "    ycoord = px_h - 1848\n",
    "    xcoord = counter * 1848\n",
    "    \n",
    "    for i in range(len(tmp)):\n",
    "        im = Image.open(tmp.local_path.iloc[i])\n",
    "        canvas.paste(im,(xcoord,ycoord))\n",
    "        ycoord = ycoord - 1848"
   ]
  },
  {
   "cell_type": "code",
   "execution_count": 29,
   "metadata": {
    "collapsed": true
   },
   "outputs": [],
   "source": [
    "canvas_w = canvas.width\n",
    "canvas_h = canvas.height\n",
    "canvas = canvas.resize( ( int(round( canvas_w * .1 )), int(round( canvas_h * .1)) ), Image.ANTIALIAS )"
   ]
  },
  {
   "cell_type": "code",
   "execution_count": 30,
   "metadata": {
    "collapsed": true
   },
   "outputs": [],
   "source": [
    "canvas.save(\"/Users/damoncrockett/Desktop/huehist14.png\")"
   ]
  },
  {
   "cell_type": "code",
   "execution_count": null,
   "metadata": {
    "collapsed": true
   },
   "outputs": [],
   "source": []
  }
 ],
 "metadata": {
  "celltoolbar": "Raw Cell Format",
  "kernelspec": {
   "display_name": "Python 2",
   "language": "python",
   "name": "python2"
  },
  "language_info": {
   "codemirror_mode": {
    "name": "ipython",
    "version": 2
   },
   "file_extension": ".py",
   "mimetype": "text/x-python",
   "name": "python",
   "nbconvert_exporter": "python",
   "pygments_lexer": "ipython2",
   "version": "2.7.10"
  }
 },
 "nbformat": 4,
 "nbformat_minor": 0
}
