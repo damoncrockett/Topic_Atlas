{
 "cells": [
  {
   "cell_type": "code",
   "execution_count": 1,
   "metadata": {
    "collapsed": true
   },
   "outputs": [],
   "source": [
    "import glob,os\n",
    "from PIL import Image,ImageDraw,ImageFont"
   ]
  },
  {
   "cell_type": "code",
   "execution_count": 2,
   "metadata": {
    "collapsed": false
   },
   "outputs": [],
   "source": [
    "DIR = \"/Users/damoncrockett/Desktop/global-bigbright/\"\n",
    "CROP = DIR+\"cropped/\"\n",
    "SCALE = CROP+\"scaled/\"\n",
    "LABEL = SCALE+\"labeled/\"\n",
    "RESCALE = LABEL+\"rescaled/\""
   ]
  },
  {
   "cell_type": "code",
   "execution_count": 53,
   "metadata": {
    "collapsed": true
   },
   "outputs": [],
   "source": [
    "#files = glob.glob(os.path.join(DIR,\"*.jpg\"))"
   ]
  },
  {
   "cell_type": "markdown",
   "metadata": {},
   "source": [
    "### Crop out Antarctica"
   ]
  },
  {
   "cell_type": "code",
   "execution_count": 54,
   "metadata": {
    "collapsed": false
   },
   "outputs": [],
   "source": [
    "\"\"\"\n",
    "for item in files:\n",
    "    base = os.path.basename(item)\n",
    "    im = Image.open(item)\n",
    "    im = im.crop((220,100,4410,2070)) # derived from photoshop exploration\n",
    "    im.save(CROP+base)"
   ]
  },
  {
   "cell_type": "markdown",
   "metadata": {},
   "source": [
    "### Resize"
   ]
  },
  {
   "cell_type": "code",
   "execution_count": 55,
   "metadata": {
    "collapsed": true
   },
   "outputs": [],
   "source": [
    "#files = glob.glob(os.path.join(CROP,\"*.jpg\"))"
   ]
  },
  {
   "cell_type": "code",
   "execution_count": 56,
   "metadata": {
    "collapsed": false
   },
   "outputs": [],
   "source": [
    "\"\"\"\n",
    "for item in files:\n",
    "    base = os.path.basename(item)\n",
    "    im = Image.open(item)\n",
    "    im = im.resize((3840,1805),Image.ANTIALIAS)\n",
    "    im.save(SCALE+base)"
   ]
  },
  {
   "cell_type": "markdown",
   "metadata": {},
   "source": [
    "### New files"
   ]
  },
  {
   "cell_type": "code",
   "execution_count": 15,
   "metadata": {
    "collapsed": true
   },
   "outputs": [],
   "source": [
    "files = glob.glob(os.path.join(SCALE,\"*.jpg\"))"
   ]
  },
  {
   "cell_type": "markdown",
   "metadata": {},
   "source": [
    "### Add labels"
   ]
  },
  {
   "cell_type": "code",
   "execution_count": 12,
   "metadata": {
    "collapsed": true
   },
   "outputs": [],
   "source": [
    "import pandas as pd \n",
    "from dateutil import parser\n",
    "import datetime"
   ]
  },
  {
   "cell_type": "code",
   "execution_count": 1,
   "metadata": {
    "collapsed": false
   },
   "outputs": [],
   "source": [
    "\"\"\"\n",
    "def teparse(dt):\n",
    "    try:\n",
    "        return parser.parse(dt)\n",
    "    except:\n",
    "        return \"err\"\n",
    "\n",
    "def pTsubset(df):\n",
    "    try:\n",
    "        return df[df.postedTime!=\"err\"]\n",
    "    except:\n",
    "        return df\n",
    "\n",
    "df = pd.read_csv(\"/Users/damoncrockett/Desktop/spacetime_2011.csv\")\n",
    "df.postedTime = df.postedTime.apply(teparse)\n",
    "df = pTsubset(df)\n",
    "\n",
    "t0 = df.postedTime.min()"
   ]
  },
  {
   "cell_type": "code",
   "execution_count": 7,
   "metadata": {
    "collapsed": false
   },
   "outputs": [],
   "source": [
    "import pytz\n",
    "t0 = datetime.datetime(2011, 9, 1, 0, 1, 42, tzinfo=pytz.UTC) # fact"
   ]
  },
  {
   "cell_type": "code",
   "execution_count": 8,
   "metadata": {
    "collapsed": true
   },
   "outputs": [],
   "source": [
    "delta = datetime.timedelta(days=7)\n",
    "nweeks = 150 # fact about our data\n",
    "\n",
    "weeklist = []\n",
    "lbound = t0\n",
    "for i in range(nweeks):\n",
    "    rbound = lbound + delta\n",
    "    weeklist.append((lbound, rbound))\n",
    "    lbound = rbound"
   ]
  },
  {
   "cell_type": "code",
   "execution_count": 9,
   "metadata": {
    "collapsed": false
   },
   "outputs": [],
   "source": [
    "weekstarts = [item[0] for item in weeklist]"
   ]
  },
  {
   "cell_type": "code",
   "execution_count": 13,
   "metadata": {
    "collapsed": false
   },
   "outputs": [],
   "source": [
    "labellist = []\n",
    "for item in weekstarts:\n",
    "    year = str(item.year)\n",
    "    month = str(item.month).zfill(2)\n",
    "    labelstring = month+\".\"+year\n",
    "    labellist.append(labelstring)"
   ]
  },
  {
   "cell_type": "code",
   "execution_count": 14,
   "metadata": {
    "collapsed": false
   },
   "outputs": [],
   "source": [
    "FONTDIR = \"/Library/Fonts/\"\n",
    "font = ImageFont.truetype(FONTDIR+\"DIN Alternate Bold.ttf\",142)"
   ]
  },
  {
   "cell_type": "code",
   "execution_count": 29,
   "metadata": {
    "collapsed": false
   },
   "outputs": [],
   "source": [
    "for i in range(len(files)):\n",
    "    pathstring = files[i]\n",
    "    base = os.path.basename(pathstring)\n",
    "    \n",
    "    lbl = labellist[i]\n",
    "    im = Image.open(pathstring)\n",
    "    \n",
    "    draw = ImageDraw.Draw(im)\n",
    "    \n",
    "    # month.year label\n",
    "    draw.text((200,1500),text=lbl,font=font,fill=\"hsl(0,0%,30%)\") # lighter than continents\n",
    "    \n",
    "    # progress line\n",
    "    draw.line([(200,1665),(200+i*3,1665)],fill=\"hsl(0,0%,30%)\",width=9) # lighter than continents\n",
    "    \n",
    "    im.save(LABEL+base)"
   ]
  },
  {
   "cell_type": "markdown",
   "metadata": {},
   "source": [
    "### Re-scaling for smaller formats"
   ]
  },
  {
   "cell_type": "code",
   "execution_count": 4,
   "metadata": {
    "collapsed": true
   },
   "outputs": [],
   "source": [
    "files = glob.glob(os.path.join(LABEL,\"*.jpg\"))"
   ]
  },
  {
   "cell_type": "code",
   "execution_count": 5,
   "metadata": {
    "collapsed": true
   },
   "outputs": [],
   "source": [
    "for item in files:\n",
    "    base = os.path.basename(item)\n",
    "    im = Image.open(item)\n",
    "    im = im.resize((1920,903),Image.ANTIALIAS)\n",
    "    im.save(RESCALE+base)"
   ]
  },
  {
   "cell_type": "code",
   "execution_count": null,
   "metadata": {
    "collapsed": true
   },
   "outputs": [],
   "source": []
  }
 ],
 "metadata": {
  "kernelspec": {
   "display_name": "Python 2",
   "language": "python",
   "name": "python2"
  },
  "language_info": {
   "codemirror_mode": {
    "name": "ipython",
    "version": 2
   },
   "file_extension": ".py",
   "mimetype": "text/x-python",
   "name": "python",
   "nbconvert_exporter": "python",
   "pygments_lexer": "ipython2",
   "version": "2.7.10"
  }
 },
 "nbformat": 4,
 "nbformat_minor": 0
}
