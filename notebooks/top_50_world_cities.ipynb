{
 "cells": [
  {
   "cell_type": "code",
   "execution_count": 1,
   "metadata": {
    "collapsed": true
   },
   "outputs": [],
   "source": [
    "#city list from here: https://en.wikipedia.org/wiki/List_of_cities_proper_by_population"
   ]
  },
  {
   "cell_type": "code",
   "execution_count": 2,
   "metadata": {
    "collapsed": true
   },
   "outputs": [],
   "source": [
    "#ningbo city and yangon (rangoon) return no results for some reason"
   ]
  },
  {
   "cell_type": "code",
   "execution_count": 3,
   "metadata": {
    "collapsed": true
   },
   "outputs": [],
   "source": [
    "city_list = [\n",
    "\"shanghai\",\n",
    "\"karachi\",\n",
    "\"beijing\",\n",
    "\"lagos\",\n",
    "\"delhi\",\n",
    "\"tianjin\",\n",
    "\"istanbul\",\n",
    "\"tokyo\",\n",
    "\"guangzhou\",\n",
    "\"mumbai\",\n",
    "\"moscow\",\n",
    "\"sao paulo\",\n",
    "\"shenzhen\",\n",
    "\"jakarta\",\n",
    "\"seoul\",\n",
    "\"kinshasa\",\n",
    "\"cairo\",\n",
    "\"lahore\",\n",
    "\"mexico city\",\n",
    "\"lima\",\n",
    "\"new york city\",\n",
    "\"london\",\n",
    "\"bengaluru\",\n",
    "\"bangkok\",\n",
    "\"ho chi minh city\",\n",
    "\"dongguan\",\n",
    "\"chongqing\",\n",
    "\"nanjing\",\n",
    "\"tehran\",\n",
    "\"shenyang\",\n",
    "\"bogota\",\n",
    "\"hong kong\",\n",
    "\"hanoi\",\n",
    "\"baghdad\",\n",
    "\"changsha\",\n",
    "\"dhaka\",\n",
    "\"wuhan\",\n",
    "\"hyderabad\",\n",
    "\"rio de janeiro\",\n",
    "\"faisalabad\",\n",
    "\"foshan\",\n",
    "\"zunyi\",\n",
    "\"santiago\",\n",
    "\"riyadh\",\n",
    "\"ahmedabad\",\n",
    "\"singapore\",\n",
    "\"shantou\",\n",
    "\"saint petersburg\",\n",
    "\"chennai\",\n",
    "\"abidjan\",\n",
    "\"chengdu\",\n",
    "\"alexandria\",\n",
    "\"kolkata\",\n",
    "\"ankara\",\n",
    "\"xi'an\",\n",
    "\"surat\",\n",
    "\"johannesburg\",\n",
    "\"dar es salaam\",\n",
    "\"suzhou\",\n",
    "\"harbin\",\n",
    "\"giza\",\n",
    "\"zhengzhou\",\n",
    "\"new taipei city\",\n",
    "\"los angeles\",\n",
    "\"cape town\",\n",
    "\"yokohama\",\n",
    "\"busan\",\n",
    "\"hangzhou\",\n",
    "\"xiamen\",\n",
    "\"quanzhou\",\n",
    "\"berlin\",\n",
    "\"rawalpindi\",\n",
    "\"jeddah\",\n",
    "\"durban\",\n",
    "\"hyderabad\",\n",
    "\"kabul\",\n",
    "\"casablanca\",\n",
    "\"hefei\",\n",
    "\"pyongyang\",\n",
    "\"madrid\",\n",
    "\"peshawar\",\n",
    "\"ekurhuleni\",\n",
    "\"nairobi\",\n",
    "\"zhongshan\",\n",
    "\"pune\",\n",
    "\"addis ababa\",\n",
    "\"jaipur\",\n",
    "\"buenos aires\",\n",
    "\"wenzhou\"\n",
    "]"
   ]
  },
  {
   "cell_type": "code",
   "execution_count": 4,
   "metadata": {
    "collapsed": false
   },
   "outputs": [],
   "source": [
    "import requests\n",
    "rstring = \"http://nominatim.openstreetmap.org/search?format=json&polygon=1\"\n",
    "\n",
    "polygon_list = []\n",
    "\n",
    "for city in city_list:\n",
    "    r = requests.get(rstring+\"&city=\"+city)\n",
    "    try:\n",
    "        polygon_points = r.json()[0]['polygonpoints']\n",
    "        polygon_list.append(polygon_points)\n",
    "    except:\n",
    "        try:\n",
    "            polygon_points = r.json()[1]['polygonpoints']\n",
    "            polygon_list.append(polygon_points)\n",
    "        except:\n",
    "            try:\n",
    "                polygon_points = r.json()[2]['polygonpoints']\n",
    "                polygon_list.append(polygon_points)\n",
    "            except:\n",
    "                print city,\"err\""
   ]
  },
  {
   "cell_type": "code",
   "execution_count": 6,
   "metadata": {
    "collapsed": false
   },
   "outputs": [
    {
     "data": {
      "text/plain": [
       "89"
      ]
     },
     "execution_count": 6,
     "metadata": {},
     "output_type": "execute_result"
    }
   ],
   "source": [
    "len(polygon_list)"
   ]
  },
  {
   "cell_type": "code",
   "execution_count": 7,
   "metadata": {
    "collapsed": false
   },
   "outputs": [],
   "source": [
    "polygon_list = [[[float(item) for item in pair] for pair in member] for member in polygon_list]"
   ]
  },
  {
   "cell_type": "code",
   "execution_count": 8,
   "metadata": {
    "collapsed": true
   },
   "outputs": [],
   "source": [
    "import pandas as pd"
   ]
  },
  {
   "cell_type": "code",
   "execution_count": 9,
   "metadata": {
    "collapsed": true
   },
   "outputs": [],
   "source": [
    "df = pd.DataFrame(city_list,columns=['city'])"
   ]
  },
  {
   "cell_type": "code",
   "execution_count": 10,
   "metadata": {
    "collapsed": false
   },
   "outputs": [],
   "source": [
    "df['polygon'] = polygon_list"
   ]
  },
  {
   "cell_type": "code",
   "execution_count": 11,
   "metadata": {
    "collapsed": false
   },
   "outputs": [],
   "source": [
    "from shapely.geometry import Polygon\n",
    "df['Polygon'] = df.polygon.map(Polygon)"
   ]
  },
  {
   "cell_type": "code",
   "execution_count": 12,
   "metadata": {
    "collapsed": false
   },
   "outputs": [],
   "source": [
    "from numpy import repeat"
   ]
  },
  {
   "cell_type": "code",
   "execution_count": 13,
   "metadata": {
    "collapsed": true
   },
   "outputs": [],
   "source": [
    "city_list = []\n",
    "lons = []\n",
    "lats = []\n",
    "\n",
    "for i in range(len(df)):\n",
    "    city = df.city.loc[i]\n",
    "    polygon = df.polygon.loc[i]\n",
    "    n = len(polygon)\n",
    "    city_list.extend(list(repeat(city,n))) #extend is perfect here\n",
    "    tmp_lons = [item[0] for item in polygon]\n",
    "    tmp_lats = [item[1] for item in polygon]\n",
    "    lons.extend(tmp_lons)\n",
    "    lats.extend(tmp_lats)"
   ]
  },
  {
   "cell_type": "code",
   "execution_count": 14,
   "metadata": {
    "collapsed": false
   },
   "outputs": [],
   "source": [
    "d = pd.DataFrame(city_list,columns=['city'])"
   ]
  },
  {
   "cell_type": "code",
   "execution_count": 15,
   "metadata": {
    "collapsed": true
   },
   "outputs": [],
   "source": [
    "d['lons'] = lons\n",
    "d['lats'] = lats"
   ]
  },
  {
   "cell_type": "code",
   "execution_count": 16,
   "metadata": {
    "collapsed": false
   },
   "outputs": [],
   "source": [
    "d.to_csv(\"./city_points.csv\",index=False)"
   ]
  },
  {
   "cell_type": "code",
   "execution_count": 17,
   "metadata": {
    "collapsed": true
   },
   "outputs": [],
   "source": [
    "tweets = pd.read_csv(\"/Users/damoncrockett/Desktop/Twitter_Global_Viz/twitter_metadata_2014_lean.csv\")"
   ]
  },
  {
   "cell_type": "code",
   "execution_count": 18,
   "metadata": {
    "collapsed": true
   },
   "outputs": [],
   "source": [
    "from shapely.geometry import Point"
   ]
  },
  {
   "cell_type": "code",
   "execution_count": 19,
   "metadata": {
    "collapsed": true
   },
   "outputs": [],
   "source": [
    "from rtree import index\n",
    "idx = index.Index()\n",
    "count = -1\n",
    "for item in df.Polygon:\n",
    "    count +=1\n",
    "    idx.insert(count, item.bounds)"
   ]
  },
  {
   "cell_type": "code",
   "execution_count": 20,
   "metadata": {
    "collapsed": false
   },
   "outputs": [
    {
     "name": "stdout",
     "output_type": "stream",
     "text": [
      "100000\n",
      "400000\n",
      "800000\n",
      "1000000\n",
      "2000000\n",
      "10000000\n",
      "50000000\n",
      "100000000\n"
     ]
    }
   ],
   "source": [
    "m = len(tweets)\n",
    "cities = []\n",
    "for i in range(m):\n",
    "    if i in [100000,2000000,400000,800000,1000000,10000000,50000000,100000000]:\n",
    "        print i\n",
    "    tmp = 'outside'\n",
    "    pt = (tweets.lon[i],tweets.lat[i])\n",
    "    for j in idx.intersection(pt):\n",
    "        if Point(pt).within(df.Polygon.loc[j]):\n",
    "            tmp = df.city[j]\n",
    "            break\n",
    "    cities.append(tmp)"
   ]
  },
  {
   "cell_type": "code",
   "execution_count": 21,
   "metadata": {
    "collapsed": true
   },
   "outputs": [],
   "source": [
    "tweets['city'] = cities"
   ]
  },
  {
   "cell_type": "code",
   "execution_count": 22,
   "metadata": {
    "collapsed": true
   },
   "outputs": [],
   "source": [
    "import numpy as np"
   ]
  },
  {
   "cell_type": "code",
   "execution_count": 24,
   "metadata": {
    "collapsed": false
   },
   "outputs": [
    {
     "data": {
      "text/plain": [
       "0.090781326366205534"
      ]
     },
     "execution_count": 24,
     "metadata": {},
     "output_type": "execute_result"
    }
   ],
   "source": [
    "np.mean(tweets.city!='outside')"
   ]
  },
  {
   "cell_type": "code",
   "execution_count": 25,
   "metadata": {
    "collapsed": false
   },
   "outputs": [
    {
     "data": {
      "text/plain": [
       "outside             121685253\n",
       "jakarta               1410341\n",
       "istanbul              1342407\n",
       "tokyo                  954327\n",
       "los angeles            931673\n",
       "mexico city            796238\n",
       "riyadh                 791820\n",
       "bangkok                791652\n",
       "sao paulo              650923\n",
       "madrid                 591974\n",
       "bogota                 567561\n",
       "jeddah                 552771\n",
       "buenos aires           449255\n",
       "singapore              336808\n",
       "ankara                 289647\n",
       "saint petersburg       172519\n",
       "cairo                  146463\n",
       "johannesburg           115119\n",
       "baghdad                 89589\n",
       "hong kong               89055\n",
       "berlin                  88398\n",
       "santiago                79604\n",
       "delhi                   70021\n",
       "cape town               68378\n",
       "lagos                   60353\n",
       "giza                    56337\n",
       "nairobi                 53158\n",
       "alexandria              52264\n",
       "new taipei city         51916\n",
       "mumbai                  42837\n",
       "                      ...    \n",
       "moscow                   3078\n",
       "chengdu                  3034\n",
       "wuhan                    2357\n",
       "addis ababa              2310\n",
       "hangzhou                 2047\n",
       "tianjin                  1460\n",
       "dongguan                 1439\n",
       "chongqing                1289\n",
       "xiamen                   1145\n",
       "xi'an                    1121\n",
       "shenyang                 1092\n",
       "pyongyang                1061\n",
       "zhengzhou                 884\n",
       "changsha                  873\n",
       "suzhou                    871\n",
       "wenzhou                   806\n",
       "harbin                    531\n",
       "kinshasa                  398\n",
       "hefei                     397\n",
       "zhongshan                 368\n",
       "foshan                    289\n",
       "shantou                   206\n",
       "quanzhou                  172\n",
       "yokohama                   91\n",
       "new york city              83\n",
       "nanjing                    66\n",
       "ekurhuleni                 30\n",
       "zunyi                      17\n",
       "seoul                       2\n",
       "ho chi minh city            2\n",
       "dtype: int64"
      ]
     },
     "execution_count": 25,
     "metadata": {},
     "output_type": "execute_result"
    }
   ],
   "source": [
    "tweets.city.value_counts()"
   ]
  },
  {
   "cell_type": "code",
   "execution_count": 27,
   "metadata": {
    "collapsed": false
   },
   "outputs": [],
   "source": [
    "df['area'] = df.Polygon.map(lambda x:x.area)"
   ]
  },
  {
   "cell_type": "code",
   "execution_count": null,
   "metadata": {
    "collapsed": true
   },
   "outputs": [],
   "source": [
    "'''\n",
    "Ok this area measure shows the same errors I found with the original openstreetmap data.\n",
    "Moscow and NYC have these weird tiny polygons, and they are not the only cities like\n",
    "that either. I'm going to have to just locate the city centers and draw a bounding box\n",
    "around that. On the face of it, it's less accurate and misses a lot, but honestly these\n",
    "'polygons' here were just circles anyway.\n",
    "'''"
   ]
  }
 ],
 "metadata": {
  "kernelspec": {
   "display_name": "Python 2",
   "language": "python",
   "name": "python2"
  },
  "language_info": {
   "codemirror_mode": {
    "name": "ipython",
    "version": 2
   },
   "file_extension": ".py",
   "mimetype": "text/x-python",
   "name": "python",
   "nbconvert_exporter": "python",
   "pygments_lexer": "ipython2",
   "version": "2.7.10"
  }
 },
 "nbformat": 4,
 "nbformat_minor": 0
}
