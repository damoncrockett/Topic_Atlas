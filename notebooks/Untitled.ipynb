{
 "cells": [
  {
   "cell_type": "code",
   "execution_count": 1,
   "metadata": {
    "collapsed": true
   },
   "outputs": [],
   "source": [
    "import pandas as pd"
   ]
  },
  {
   "cell_type": "code",
   "execution_count": 2,
   "metadata": {
    "collapsed": true
   },
   "outputs": [],
   "source": [
    "df = pd.read_csv(\"./world_ua_bboxes_tweetcount.csv\")"
   ]
  },
  {
   "cell_type": "code",
   "execution_count": 3,
   "metadata": {
    "collapsed": false
   },
   "outputs": [
    {
     "name": "stdout",
     "output_type": "stream",
     "text": [
      "<class 'pandas.core.frame.DataFrame'>\n",
      "Int64Index: 497 entries, 0 to 496\n",
      "Data columns (total 21 columns):\n",
      "Center              497 non-null object\n",
      "Urban_Area          497 non-null object\n",
      "Country             497 non-null object\n",
      "Population          497 non-null int64\n",
      "Area                497 non-null int64\n",
      "Density             497 non-null int64\n",
      "lon                 497 non-null float64\n",
      "lat                 497 non-null float64\n",
      "lat_rad             497 non-null float64\n",
      "goal_side           497 non-null int64\n",
      "lat_margin          497 non-null float64\n",
      "lon_denom           497 non-null float64\n",
      "lon_margin          497 non-null float64\n",
      "left                497 non-null float64\n",
      "top                 497 non-null float64\n",
      "right               497 non-null float64\n",
      "bottom              497 non-null float64\n",
      "tweet_count_2011    497 non-null int64\n",
      "tweet_count_2012    497 non-null int64\n",
      "tweet_count_2013    497 non-null int64\n",
      "tweet_count_2014    497 non-null int64\n",
      "dtypes: float64(10), int64(8), object(3)\n",
      "memory usage: 85.4+ KB\n"
     ]
    }
   ],
   "source": [
    "df.info()"
   ]
  },
  {
   "cell_type": "code",
   "execution_count": 5,
   "metadata": {
    "collapsed": true
   },
   "outputs": [],
   "source": [
    "df['tweet_count_total'] = df.tweet_count_2011 + df.tweet_count_2012 + df.tweet_count_2013 + df.tweet_count_2014"
   ]
  },
  {
   "cell_type": "code",
   "execution_count": 6,
   "metadata": {
    "collapsed": true
   },
   "outputs": [],
   "source": [
    "df = df[['Center','Urban_Area','Country','Population','tweet_count_total']]"
   ]
  },
  {
   "cell_type": "code",
   "execution_count": 7,
   "metadata": {
    "collapsed": true
   },
   "outputs": [],
   "source": [
    "df.to_csv(\"./global_urban_areas_population_tweetcount.csv\",index=False)"
   ]
  },
  {
   "cell_type": "code",
   "execution_count": null,
   "metadata": {
    "collapsed": true
   },
   "outputs": [],
   "source": []
  }
 ],
 "metadata": {
  "kernelspec": {
   "display_name": "Python 2",
   "language": "python",
   "name": "python2"
  },
  "language_info": {
   "codemirror_mode": {
    "name": "ipython",
    "version": 2
   },
   "file_extension": ".py",
   "mimetype": "text/x-python",
   "name": "python",
   "nbconvert_exporter": "python",
   "pygments_lexer": "ipython2",
   "version": "2.7.10"
  }
 },
 "nbformat": 4,
 "nbformat_minor": 0
}
