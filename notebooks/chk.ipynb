{
 "cells": [
  {
   "cell_type": "code",
   "execution_count": 6,
   "metadata": {
    "collapsed": true
   },
   "outputs": [],
   "source": [
    "import pandas as pd"
   ]
  },
  {
   "cell_type": "code",
   "execution_count": 7,
   "metadata": {
    "collapsed": true
   },
   "outputs": [],
   "source": [
    "h = pd.read_csv(\"./retwitter/TwitterTopicTest2016JulyH_100.csv\",header=None)"
   ]
  },
  {
   "cell_type": "code",
   "execution_count": 8,
   "metadata": {
    "collapsed": false
   },
   "outputs": [
    {
     "name": "stdout",
     "output_type": "stream",
     "text": [
      "<class 'pandas.core.frame.DataFrame'>\n",
      "Int64Index: 11168 entries, 0 to 11167\n",
      "Data columns (total 6 columns):\n",
      "0    11168 non-null float64\n",
      "1    11168 non-null float64\n",
      "2    11168 non-null float64\n",
      "3    11168 non-null float64\n",
      "4    11168 non-null float64\n",
      "5    11168 non-null float64\n",
      "dtypes: float64(6)\n",
      "memory usage: 610.8 KB\n"
     ]
    }
   ],
   "source": [
    "h.info()"
   ]
  },
  {
   "cell_type": "code",
   "execution_count": 11,
   "metadata": {
    "collapsed": true
   },
   "outputs": [],
   "source": [
    "hid = pd.read_csv(\"./retwitter/TwitterTopicTest2016JulyH_100id.csv\",header=None)"
   ]
  },
  {
   "cell_type": "code",
   "execution_count": 13,
   "metadata": {
    "collapsed": false
   },
   "outputs": [
    {
     "data": {
      "text/html": [
       "<div>\n",
       "<table border=\"1\" class=\"dataframe\">\n",
       "  <thead>\n",
       "    <tr style=\"text-align: right;\">\n",
       "      <th></th>\n",
       "      <th>0</th>\n",
       "      <th>1</th>\n",
       "      <th>2</th>\n",
       "      <th>3</th>\n",
       "      <th>4</th>\n",
       "      <th>5</th>\n",
       "      <th>6</th>\n",
       "      <th>7</th>\n",
       "      <th>8</th>\n",
       "      <th>9</th>\n",
       "      <th>...</th>\n",
       "      <th>385718</th>\n",
       "      <th>385719</th>\n",
       "      <th>385720</th>\n",
       "      <th>385721</th>\n",
       "      <th>385722</th>\n",
       "      <th>385723</th>\n",
       "      <th>385724</th>\n",
       "      <th>385725</th>\n",
       "      <th>385726</th>\n",
       "      <th>385727</th>\n",
       "    </tr>\n",
       "  </thead>\n",
       "  <tbody>\n",
       "    <tr>\n",
       "      <th>0</th>\n",
       "      <td>5</td>\n",
       "      <td>3</td>\n",
       "      <td>d</td>\n",
       "      <td>d</td>\n",
       "      <td>c</td>\n",
       "      <td>5</td>\n",
       "      <td>f</td>\n",
       "      <td>d</td>\n",
       "      <td>a</td>\n",
       "      <td>d</td>\n",
       "      <td>...</td>\n",
       "      <td>7</td>\n",
       "      <td>5</td>\n",
       "      <td>b</td>\n",
       "      <td>9</td>\n",
       "      <td>a</td>\n",
       "      <td>7</td>\n",
       "      <td>1</td>\n",
       "      <td>9</td>\n",
       "      <td>5</td>\n",
       "      <td>e</td>\n",
       "    </tr>\n",
       "  </tbody>\n",
       "</table>\n",
       "<p>1 rows × 385728 columns</p>\n",
       "</div>"
      ],
      "text/plain": [
       "   0       1      2      3      4       5      6      7      8      9       \\\n",
       "0       5       3      d      d      c       5      f      d      a      d   \n",
       "\n",
       "    ...    385718  385719  385720  385721  385722  385723 385724  385725  \\\n",
       "0   ...         7       5       b       9       a       7      1       9   \n",
       "\n",
       "  385726  385727  \n",
       "0      5       e  \n",
       "\n",
       "[1 rows x 385728 columns]"
      ]
     },
     "execution_count": 13,
     "metadata": {},
     "output_type": "execute_result"
    }
   ],
   "source": [
    "hid.head()"
   ]
  },
  {
   "cell_type": "code",
   "execution_count": null,
   "metadata": {
    "collapsed": true
   },
   "outputs": [],
   "source": []
  },
  {
   "cell_type": "code",
   "execution_count": null,
   "metadata": {
    "collapsed": true
   },
   "outputs": [],
   "source": []
  },
  {
   "cell_type": "code",
   "execution_count": null,
   "metadata": {
    "collapsed": true
   },
   "outputs": [],
   "source": []
  },
  {
   "cell_type": "code",
   "execution_count": 4,
   "metadata": {
    "collapsed": true
   },
   "outputs": [],
   "source": [
    "d = pd.read_csv(\"/Users/damoncrockett/Dropbox/Topic_Atlas_Data/shared/sd_sample.csv\")"
   ]
  },
  {
   "cell_type": "code",
   "execution_count": 11,
   "metadata": {
    "collapsed": false
   },
   "outputs": [
    {
     "data": {
      "text/html": [
       "<div>\n",
       "<table border=\"1\" class=\"dataframe\">\n",
       "  <thead>\n",
       "    <tr style=\"text-align: right;\">\n",
       "      <th></th>\n",
       "      <th>mongo_id</th>\n",
       "      <th>text</th>\n",
       "      <th>basename</th>\n",
       "      <th>lat</th>\n",
       "      <th>lon</th>\n",
       "      <th>postedTime</th>\n",
       "      <th>CPA</th>\n",
       "    </tr>\n",
       "  </thead>\n",
       "  <tbody>\n",
       "    <tr>\n",
       "      <th>0</th>\n",
       "      <td>53dd2d64ad128775b96c7e57</td>\n",
       "      <td>😂😂😂😂😂😂😂😂😂😂@christinatakeda http://t....</td>\n",
       "      <td>BkbTiQcCYAA8YsH.jpg</td>\n",
       "      <td>32.969020</td>\n",
       "      <td>-117.113547</td>\n",
       "      <td>2014-04-05T03:07:43.000Z</td>\n",
       "      <td>RANCHO PENASQUITOS</td>\n",
       "    </tr>\n",
       "    <tr>\n",
       "      <th>1</th>\n",
       "      <td>53dd4f99ad128775b9d29d75</td>\n",
       "      <td>Reducing Network Latency Resulting From Non-ac...</td>\n",
       "      <td>BisTdmuCUAAebKv.png</td>\n",
       "      <td>32.895732</td>\n",
       "      <td>-117.195861</td>\n",
       "      <td>2014-03-14T13:49:32.000Z</td>\n",
       "      <td>MIRA MESA</td>\n",
       "    </tr>\n",
       "    <tr>\n",
       "      <th>2</th>\n",
       "      <td>53dd2881ad128775b939f244</td>\n",
       "      <td>When you accidentally take a picture while pla...</td>\n",
       "      <td>BlrYkO9CUAA3DRX.jpg</td>\n",
       "      <td>32.982926</td>\n",
       "      <td>-117.165833</td>\n",
       "      <td>2014-04-20T16:19:19.000Z</td>\n",
       "      <td>BLACK MOUNTAIN RANCH</td>\n",
       "    </tr>\n",
       "    <tr>\n",
       "      <th>3</th>\n",
       "      <td>53dd931cad128775b994e45b</td>\n",
       "      <td>Professor brought in cherries on the last day ...</td>\n",
       "      <td>BpY-w1pCMAAC8dv.jpg</td>\n",
       "      <td>32.885024</td>\n",
       "      <td>-117.236850</td>\n",
       "      <td>2014-06-05T19:36:12.000Z</td>\n",
       "      <td>UNIVERSITY</td>\n",
       "    </tr>\n",
       "    <tr>\n",
       "      <th>4</th>\n",
       "      <td>53dd3e21ad128775b91adf3a</td>\n",
       "      <td>Great big biz class! #smmw14 @AaronKahlow http...</td>\n",
       "      <td>BjwMvQ3CQAAeI3W.jpg</td>\n",
       "      <td>32.709917</td>\n",
       "      <td>-117.167231</td>\n",
       "      <td>2014-03-27T18:14:20.000Z</td>\n",
       "      <td>DOWNTOWN</td>\n",
       "    </tr>\n",
       "  </tbody>\n",
       "</table>\n",
       "</div>"
      ],
      "text/plain": [
       "                   mongo_id  \\\n",
       "0  53dd2d64ad128775b96c7e57   \n",
       "1  53dd4f99ad128775b9d29d75   \n",
       "2  53dd2881ad128775b939f244   \n",
       "3  53dd931cad128775b994e45b   \n",
       "4  53dd3e21ad128775b91adf3a   \n",
       "\n",
       "                                                text             basename  \\\n",
       "0  😂😂😂😂😂😂😂😂😂😂@christinatakeda http://t....  BkbTiQcCYAA8YsH.jpg   \n",
       "1  Reducing Network Latency Resulting From Non-ac...  BisTdmuCUAAebKv.png   \n",
       "2  When you accidentally take a picture while pla...  BlrYkO9CUAA3DRX.jpg   \n",
       "3  Professor brought in cherries on the last day ...  BpY-w1pCMAAC8dv.jpg   \n",
       "4  Great big biz class! #smmw14 @AaronKahlow http...  BjwMvQ3CQAAeI3W.jpg   \n",
       "\n",
       "         lat         lon                postedTime                   CPA  \n",
       "0  32.969020 -117.113547  2014-04-05T03:07:43.000Z    RANCHO PENASQUITOS  \n",
       "1  32.895732 -117.195861  2014-03-14T13:49:32.000Z             MIRA MESA  \n",
       "2  32.982926 -117.165833  2014-04-20T16:19:19.000Z  BLACK MOUNTAIN RANCH  \n",
       "3  32.885024 -117.236850  2014-06-05T19:36:12.000Z            UNIVERSITY  \n",
       "4  32.709917 -117.167231  2014-03-27T18:14:20.000Z              DOWNTOWN  "
      ]
     },
     "execution_count": 11,
     "metadata": {},
     "output_type": "execute_result"
    }
   ],
   "source": [
    "d.head()"
   ]
  },
  {
   "cell_type": "code",
   "execution_count": null,
   "metadata": {
    "collapsed": true
   },
   "outputs": [],
   "source": []
  }
 ],
 "metadata": {
  "kernelspec": {
   "display_name": "Python 2",
   "language": "python",
   "name": "python2"
  },
  "language_info": {
   "codemirror_mode": {
    "name": "ipython",
    "version": 2
   },
   "file_extension": ".py",
   "mimetype": "text/x-python",
   "name": "python",
   "nbconvert_exporter": "python",
   "pygments_lexer": "ipython2",
   "version": "2.7.10"
  }
 },
 "nbformat": 4,
 "nbformat_minor": 0
}
