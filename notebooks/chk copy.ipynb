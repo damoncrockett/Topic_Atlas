{
 "cells": [
  {
   "cell_type": "code",
   "execution_count": 29,
   "metadata": {
    "collapsed": true
   },
   "outputs": [],
   "source": [
    "import pandas as pd"
   ]
  },
  {
   "cell_type": "code",
   "execution_count": 30,
   "metadata": {
    "collapsed": false
   },
   "outputs": [],
   "source": [
    "df = pd.read_csv(\"./world_ua_bboxes_tweetcount.csv\")"
   ]
  },
  {
   "cell_type": "code",
   "execution_count": 31,
   "metadata": {
    "collapsed": false
   },
   "outputs": [
    {
     "data": {
      "text/html": [
       "<div>\n",
       "<table border=\"1\" class=\"dataframe\">\n",
       "  <thead>\n",
       "    <tr style=\"text-align: right;\">\n",
       "      <th></th>\n",
       "      <th>Center</th>\n",
       "      <th>Urban_Area</th>\n",
       "      <th>lon</th>\n",
       "      <th>lat</th>\n",
       "    </tr>\n",
       "  </thead>\n",
       "  <tbody>\n",
       "    <tr>\n",
       "      <th>0</th>\n",
       "      <td>Tokyo</td>\n",
       "      <td>Tokyo?Yokohama</td>\n",
       "      <td>139.731993</td>\n",
       "      <td>35.709026</td>\n",
       "    </tr>\n",
       "    <tr>\n",
       "      <th>1</th>\n",
       "      <td>Jakarta</td>\n",
       "      <td>Jakarta</td>\n",
       "      <td>106.845599</td>\n",
       "      <td>-6.208763</td>\n",
       "    </tr>\n",
       "    <tr>\n",
       "      <th>2</th>\n",
       "      <td>Delhi</td>\n",
       "      <td>Delhi</td>\n",
       "      <td>77.209021</td>\n",
       "      <td>28.613939</td>\n",
       "    </tr>\n",
       "    <tr>\n",
       "      <th>3</th>\n",
       "      <td>Manila</td>\n",
       "      <td>Manila</td>\n",
       "      <td>120.984220</td>\n",
       "      <td>14.599512</td>\n",
       "    </tr>\n",
       "    <tr>\n",
       "      <th>4</th>\n",
       "      <td>Seoul</td>\n",
       "      <td>Seoul?Gyeonggi?Incheon</td>\n",
       "      <td>126.977969</td>\n",
       "      <td>37.566535</td>\n",
       "    </tr>\n",
       "  </tbody>\n",
       "</table>\n",
       "</div>"
      ],
      "text/plain": [
       "    Center              Urban_Area         lon        lat\n",
       "0    Tokyo          Tokyo?Yokohama  139.731993  35.709026\n",
       "1  Jakarta                 Jakarta  106.845599  -6.208763\n",
       "2    Delhi                   Delhi   77.209021  28.613939\n",
       "3   Manila                  Manila  120.984220  14.599512\n",
       "4    Seoul  Seoul?Gyeonggi?Incheon  126.977969  37.566535"
      ]
     },
     "execution_count": 31,
     "metadata": {},
     "output_type": "execute_result"
    }
   ],
   "source": [
    "df[[0,1,6,7]].head()"
   ]
  },
  {
   "cell_type": "code",
   "execution_count": 32,
   "metadata": {
    "collapsed": false
   },
   "outputs": [],
   "source": [
    "chosen = pd.read_csv(\"./chosen_cities.txt\",header=None)"
   ]
  },
  {
   "cell_type": "code",
   "execution_count": 33,
   "metadata": {
    "collapsed": false
   },
   "outputs": [],
   "source": [
    "chosen[0] = [item.lstrip(\"1234567890. \") for item in chosen[0]]"
   ]
  },
  {
   "cell_type": "code",
   "execution_count": 34,
   "metadata": {
    "collapsed": false
   },
   "outputs": [],
   "source": [
    "chosen.rename(columns={0:\"Center\",1:\"country\"},inplace=True)"
   ]
  },
  {
   "cell_type": "code",
   "execution_count": 35,
   "metadata": {
    "collapsed": false
   },
   "outputs": [],
   "source": [
    "tmp = df[['Center','lon','lat']].set_index(\"Center\")"
   ]
  },
  {
   "cell_type": "code",
   "execution_count": 36,
   "metadata": {
    "collapsed": false
   },
   "outputs": [],
   "source": [
    "chosen = chosen.join(tmp,on=\"Center\")"
   ]
  },
  {
   "cell_type": "code",
   "execution_count": 37,
   "metadata": {
    "collapsed": false
   },
   "outputs": [
    {
     "name": "stdout",
     "output_type": "stream",
     "text": [
      "<class 'pandas.core.frame.DataFrame'>\n",
      "RangeIndex: 81 entries, 0 to 80\n",
      "Data columns (total 4 columns):\n",
      "Center     81 non-null object\n",
      "country    81 non-null object\n",
      "lon        81 non-null float64\n",
      "lat        81 non-null float64\n",
      "dtypes: float64(2), object(2)\n",
      "memory usage: 2.6+ KB\n"
     ]
    }
   ],
   "source": [
    "chosen.info()"
   ]
  },
  {
   "cell_type": "code",
   "execution_count": 38,
   "metadata": {
    "collapsed": false
   },
   "outputs": [],
   "source": [
    "cities = list(chosen.Center)"
   ]
  },
  {
   "cell_type": "code",
   "execution_count": 39,
   "metadata": {
    "collapsed": false
   },
   "outputs": [],
   "source": [
    "margins = df[df.Center.isin(cities)]"
   ]
  },
  {
   "cell_type": "code",
   "execution_count": 40,
   "metadata": {
    "collapsed": false
   },
   "outputs": [
    {
     "data": {
      "text/plain": [
       "0.41601099716000001"
      ]
     },
     "execution_count": 40,
     "metadata": {},
     "output_type": "execute_result"
    }
   ],
   "source": [
    "max(margins.lat_margin)"
   ]
  },
  {
   "cell_type": "code",
   "execution_count": 41,
   "metadata": {
    "collapsed": false
   },
   "outputs": [
    {
     "data": {
      "text/plain": [
       "0.54276607319500003"
      ]
     },
     "execution_count": 41,
     "metadata": {},
     "output_type": "execute_result"
    }
   ],
   "source": [
    "max(margins.lon_margin)"
   ]
  },
  {
   "cell_type": "code",
   "execution_count": 42,
   "metadata": {
    "collapsed": true
   },
   "outputs": [],
   "source": [
    "import numpy as np"
   ]
  },
  {
   "cell_type": "code",
   "execution_count": 43,
   "metadata": {
    "collapsed": false
   },
   "outputs": [
    {
     "data": {
      "text/plain": [
       "0.76758714190835708"
      ]
     },
     "execution_count": 43,
     "metadata": {},
     "output_type": "execute_result"
    }
   ],
   "source": [
    "np.sqrt(2) * max(margins.lon_margin)"
   ]
  },
  {
   "cell_type": "code",
   "execution_count": 44,
   "metadata": {
    "collapsed": true
   },
   "outputs": [],
   "source": [
    "# Okay so the max diagonal to sweep up every tweet is 0.77. Just to be safe, I will probably just sweep \n",
    "# one degree in either direction and then make a choice later."
   ]
  },
  {
   "cell_type": "code",
   "execution_count": 47,
   "metadata": {
    "collapsed": false
   },
   "outputs": [
    {
     "data": {
      "text/plain": [
       "8547"
      ]
     },
     "execution_count": 47,
     "metadata": {},
     "output_type": "execute_result"
    }
   ],
   "source": [
    "max(margins.Area)"
   ]
  },
  {
   "cell_type": "code",
   "execution_count": 49,
   "metadata": {
    "collapsed": false
   },
   "outputs": [
    {
     "data": {
      "text/html": [
       "<div>\n",
       "<table border=\"1\" class=\"dataframe\">\n",
       "  <thead>\n",
       "    <tr style=\"text-align: right;\">\n",
       "      <th></th>\n",
       "      <th>Center</th>\n",
       "      <th>Urban_Area</th>\n",
       "      <th>Country</th>\n",
       "      <th>Population</th>\n",
       "      <th>Area</th>\n",
       "      <th>Density</th>\n",
       "      <th>lon</th>\n",
       "      <th>lat</th>\n",
       "      <th>lat_rad</th>\n",
       "      <th>goal_side</th>\n",
       "      <th>...</th>\n",
       "      <th>lon_denom</th>\n",
       "      <th>lon_margin</th>\n",
       "      <th>left</th>\n",
       "      <th>top</th>\n",
       "      <th>right</th>\n",
       "      <th>bottom</th>\n",
       "      <th>tweet_count_2011</th>\n",
       "      <th>tweet_count_2012</th>\n",
       "      <th>tweet_count_2013</th>\n",
       "      <th>tweet_count_2014</th>\n",
       "    </tr>\n",
       "  </thead>\n",
       "  <tbody>\n",
       "    <tr>\n",
       "      <th>0</th>\n",
       "      <td>Tokyo</td>\n",
       "      <td>Tokyo?Yokohama</td>\n",
       "      <td>Japan</td>\n",
       "      <td>37843000</td>\n",
       "      <td>8547</td>\n",
       "      <td>4400</td>\n",
       "      <td>139.731993</td>\n",
       "      <td>35.709026</td>\n",
       "      <td>0.62324</td>\n",
       "      <td>92</td>\n",
       "      <td>...</td>\n",
       "      <td>90.390904</td>\n",
       "      <td>0.508901</td>\n",
       "      <td>139.223092</td>\n",
       "      <td>36.125037</td>\n",
       "      <td>140.240893</td>\n",
       "      <td>35.293015</td>\n",
       "      <td>58220</td>\n",
       "      <td>550795</td>\n",
       "      <td>1507253</td>\n",
       "      <td>2013047</td>\n",
       "    </tr>\n",
       "  </tbody>\n",
       "</table>\n",
       "<p>1 rows × 21 columns</p>\n",
       "</div>"
      ],
      "text/plain": [
       "  Center      Urban_Area Country  Population  Area  Density         lon  \\\n",
       "0  Tokyo  Tokyo?Yokohama   Japan    37843000  8547     4400  139.731993   \n",
       "\n",
       "         lat  lat_rad  goal_side        ...         lon_denom  lon_margin  \\\n",
       "0  35.709026  0.62324         92        ...         90.390904    0.508901   \n",
       "\n",
       "         left        top       right     bottom  tweet_count_2011  \\\n",
       "0  139.223092  36.125037  140.240893  35.293015             58220   \n",
       "\n",
       "   tweet_count_2012  tweet_count_2013  tweet_count_2014  \n",
       "0            550795           1507253           2013047  \n",
       "\n",
       "[1 rows x 21 columns]"
      ]
     },
     "execution_count": 49,
     "metadata": {},
     "output_type": "execute_result"
    }
   ],
   "source": [
    "margins[margins.Area==8547]"
   ]
  },
  {
   "cell_type": "code",
   "execution_count": 50,
   "metadata": {
    "collapsed": false
   },
   "outputs": [
    {
     "data": {
      "text/plain": [
       "1000"
      ]
     },
     "execution_count": 50,
     "metadata": {},
     "output_type": "execute_result"
    }
   ],
   "source": [
    "min(margins.Density)"
   ]
  },
  {
   "cell_type": "code",
   "execution_count": 51,
   "metadata": {
    "collapsed": false
   },
   "outputs": [
    {
     "data": {
      "text/html": [
       "<div>\n",
       "<table border=\"1\" class=\"dataframe\">\n",
       "  <thead>\n",
       "    <tr style=\"text-align: right;\">\n",
       "      <th></th>\n",
       "      <th>Center</th>\n",
       "      <th>Urban_Area</th>\n",
       "      <th>Country</th>\n",
       "      <th>Population</th>\n",
       "      <th>Area</th>\n",
       "      <th>Density</th>\n",
       "      <th>lon</th>\n",
       "      <th>lat</th>\n",
       "      <th>lat_rad</th>\n",
       "      <th>goal_side</th>\n",
       "      <th>...</th>\n",
       "      <th>lon_denom</th>\n",
       "      <th>lon_margin</th>\n",
       "      <th>left</th>\n",
       "      <th>top</th>\n",
       "      <th>right</th>\n",
       "      <th>bottom</th>\n",
       "      <th>tweet_count_2011</th>\n",
       "      <th>tweet_count_2012</th>\n",
       "      <th>tweet_count_2013</th>\n",
       "      <th>tweet_count_2014</th>\n",
       "    </tr>\n",
       "  </thead>\n",
       "  <tbody>\n",
       "    <tr>\n",
       "      <th>219</th>\n",
       "      <td>San Juan</td>\n",
       "      <td>San Juan</td>\n",
       "      <td>Puerto Rico</td>\n",
       "      <td>2139000</td>\n",
       "      <td>2246</td>\n",
       "      <td>1000</td>\n",
       "      <td>-66.105735</td>\n",
       "      <td>18.465539</td>\n",
       "      <td>0.322284</td>\n",
       "      <td>47</td>\n",
       "      <td>...</td>\n",
       "      <td>105.588615</td>\n",
       "      <td>0.222562</td>\n",
       "      <td>-66.328297</td>\n",
       "      <td>18.678067</td>\n",
       "      <td>-65.883174</td>\n",
       "      <td>18.253012</td>\n",
       "      <td>2764</td>\n",
       "      <td>31694</td>\n",
       "      <td>153969</td>\n",
       "      <td>214211</td>\n",
       "    </tr>\n",
       "  </tbody>\n",
       "</table>\n",
       "<p>1 rows × 21 columns</p>\n",
       "</div>"
      ],
      "text/plain": [
       "       Center Urban_Area      Country  Population  Area  Density        lon  \\\n",
       "219  San Juan   San Juan  Puerto Rico     2139000  2246     1000 -66.105735   \n",
       "\n",
       "           lat   lat_rad  goal_side        ...          lon_denom  lon_margin  \\\n",
       "219  18.465539  0.322284         47        ...         105.588615    0.222562   \n",
       "\n",
       "          left        top      right     bottom  tweet_count_2011  \\\n",
       "219 -66.328297  18.678067 -65.883174  18.253012              2764   \n",
       "\n",
       "     tweet_count_2012  tweet_count_2013  tweet_count_2014  \n",
       "219             31694            153969            214211  \n",
       "\n",
       "[1 rows x 21 columns]"
      ]
     },
     "execution_count": 51,
     "metadata": {},
     "output_type": "execute_result"
    }
   ],
   "source": [
    "margins[margins.Density==1000]"
   ]
  },
  {
   "cell_type": "code",
   "execution_count": 52,
   "metadata": {
    "collapsed": false
   },
   "outputs": [
    {
     "data": {
      "text/plain": [
       "0.41601099716000001"
      ]
     },
     "execution_count": 52,
     "metadata": {},
     "output_type": "execute_result"
    }
   ],
   "source": [
    "margins.lat_margin.loc[0]"
   ]
  },
  {
   "cell_type": "code",
   "execution_count": 53,
   "metadata": {
    "collapsed": false
   },
   "outputs": [
    {
     "data": {
      "text/plain": [
       "0.50890076360799996"
      ]
     },
     "execution_count": 53,
     "metadata": {},
     "output_type": "execute_result"
    }
   ],
   "source": [
    "margins.lon_margin.loc[0]"
   ]
  },
  {
   "cell_type": "code",
   "execution_count": 54,
   "metadata": {
    "collapsed": false
   },
   "outputs": [
    {
     "data": {
      "text/plain": [
       "0.71969436179645796"
      ]
     },
     "execution_count": 54,
     "metadata": {},
     "output_type": "execute_result"
    }
   ],
   "source": [
    "margins.lon_margin.loc[0] * np.sqrt(2)"
   ]
  },
  {
   "cell_type": "code",
   "execution_count": 57,
   "metadata": {
    "collapsed": true
   },
   "outputs": [],
   "source": [
    "# Okay so within our actual set, the largest margin diagonal is 0.72\n",
    "# But we will still do 1 degree just cuz"
   ]
  },
  {
   "cell_type": "code",
   "execution_count": 60,
   "metadata": {
    "collapsed": false
   },
   "outputs": [],
   "source": [
    "chosen.to_csv(\"./city-list.csv\",index=False)"
   ]
  }
 ],
 "metadata": {
  "kernelspec": {
   "display_name": "Python 2",
   "language": "python",
   "name": "python2"
  },
  "language_info": {
   "codemirror_mode": {
    "name": "ipython",
    "version": 2
   },
   "file_extension": ".py",
   "mimetype": "text/x-python",
   "name": "python",
   "nbconvert_exporter": "python",
   "pygments_lexer": "ipython2",
   "version": "2.7.10"
  }
 },
 "nbformat": 4,
 "nbformat_minor": 0
}
