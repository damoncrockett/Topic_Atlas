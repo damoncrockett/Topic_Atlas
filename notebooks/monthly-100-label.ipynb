{
 "cells": [
  {
   "cell_type": "code",
   "execution_count": 128,
   "metadata": {
    "collapsed": true
   },
   "outputs": [],
   "source": [
    "import glob,os\n",
    "from PIL import Image,ImageDraw,ImageFont"
   ]
  },
  {
   "cell_type": "code",
   "execution_count": 129,
   "metadata": {
    "collapsed": false
   },
   "outputs": [],
   "source": [
    "DIR = \"/Users/damoncrockett/Desktop/monthly-100/\"\n",
    "CROP = DIR+\"cropped/\"\n",
    "LABEL = CROP+\"labeled/\""
   ]
  },
  {
   "cell_type": "code",
   "execution_count": 130,
   "metadata": {
    "collapsed": true
   },
   "outputs": [],
   "source": [
    "files = glob.glob(os.path.join(DIR,\"*.jpg\"))"
   ]
  },
  {
   "cell_type": "code",
   "execution_count": 131,
   "metadata": {
    "collapsed": true
   },
   "outputs": [],
   "source": [
    "scalar = 0.6510416666"
   ]
  },
  {
   "cell_type": "code",
   "execution_count": 132,
   "metadata": {
    "collapsed": false
   },
   "outputs": [],
   "source": [
    "cropcoords = tuple([int( scalar * item ) for item in [220,100,4410,2070]])"
   ]
  },
  {
   "cell_type": "code",
   "execution_count": 133,
   "metadata": {
    "collapsed": true
   },
   "outputs": [],
   "source": [
    "for item in files:\n",
    "    base = os.path.basename(item)\n",
    "    im = Image.open(item)\n",
    "    im = im.crop(cropcoords) # derived from photoshop exploration\n",
    "    im.save(CROP+base)"
   ]
  },
  {
   "cell_type": "code",
   "execution_count": 97,
   "metadata": {
    "collapsed": true
   },
   "outputs": [],
   "source": [
    "files = glob.glob(os.path.join(CROP,\"*.jpg\"))"
   ]
  },
  {
   "cell_type": "code",
   "execution_count": 98,
   "metadata": {
    "collapsed": true
   },
   "outputs": [],
   "source": [
    "labels = [\n",
    "    '09.2011',\n",
    "    '10.2011',\n",
    "    '11.2011',\n",
    "    '12,2011',\n",
    "    '01.2012',\n",
    "    '02.2012',\n",
    "    '03.2012',\n",
    "    '04.2012',\n",
    "    '05.2012',\n",
    "    '06.2012',\n",
    "    '07.2012',\n",
    "    '08.2012',\n",
    "    '09.2012',\n",
    "    '10.2012',\n",
    "    '11.2012',\n",
    "    '12.2012',\n",
    "    '01.2013',\n",
    "    '02.2013',\n",
    "    '03.2013',\n",
    "    '04.2013',\n",
    "    '05.2013',\n",
    "    '06.2013',\n",
    "    '07.2013',\n",
    "    '08.2013',\n",
    "    '09.2013',\n",
    "    '10.2013',\n",
    "    '11.2013',\n",
    "    '12.2013',\n",
    "    '01.2014',\n",
    "    '02.2014',\n",
    "    '03.2014',\n",
    "    '04.2014',\n",
    "    '05.2014',\n",
    "    '06.2014',\n",
    "    '07.2014'\n",
    "]"
   ]
  },
  {
   "cell_type": "code",
   "execution_count": 99,
   "metadata": {
    "collapsed": true
   },
   "outputs": [],
   "source": [
    "FONTDIR = \"/Library/Fonts/\"\n",
    "font = ImageFont.truetype(FONTDIR+\"DIN Alternate Bold.ttf\",64)"
   ]
  },
  {
   "cell_type": "code",
   "execution_count": 100,
   "metadata": {
    "collapsed": true
   },
   "outputs": [],
   "source": [
    "lbl = labels[0]"
   ]
  },
  {
   "cell_type": "code",
   "execution_count": 101,
   "metadata": {
    "collapsed": false
   },
   "outputs": [],
   "source": [
    "w = font.getsize(lbl)[0]\n",
    "scalar = w / float(35)"
   ]
  },
  {
   "cell_type": "code",
   "execution_count": 103,
   "metadata": {
    "collapsed": false
   },
   "outputs": [],
   "source": [
    "counter = -1\n",
    "for i in range(len(files)):\n",
    "    counter+=1\n",
    "    pathstring = files[i]\n",
    "    base = os.path.basename(pathstring)\n",
    "    \n",
    "    lbl = labels[i]\n",
    "    im = Image.open(pathstring)\n",
    "    \n",
    "    draw = ImageDraw.Draw(im)\n",
    "    \n",
    "    # month.year label\n",
    "    draw.text((90,681),text=lbl,font=font,fill=\"hsl(0,0%,31%)\") # same as continents\n",
    "    \n",
    "    # progress line\n",
    "    draw.line([(90,756),(int(90+counter*scalar),756)],fill=\"hsl(0,0%,31%)\",width=4) # same as continents\n",
    "    \n",
    "    im.save(LABEL+base)"
   ]
  },
  {
   "cell_type": "markdown",
   "metadata": {},
   "source": [
    "### For the end of movie callouts"
   ]
  },
  {
   "cell_type": "code",
   "execution_count": 90,
   "metadata": {
    "collapsed": true
   },
   "outputs": [],
   "source": [
    "CALLOUTS = \"/Users/damoncrockett/Desktop/callouts/\"\n",
    "files = glob.glob(os.path.join(CALLOUTS,\"*.jpg\"))\n",
    "scalar = 0.416666\n",
    "cropcoords = tuple([int( scalar * item ) for item in [220,100,4410,2070]])\n",
    "\n",
    "for item in files:\n",
    "    base = os.path.basename(item)\n",
    "    im = Image.open(item)\n",
    "    im = im.crop(cropcoords) # derived from photoshop exploration\n",
    "    im.save(CALLOUTS+base)\n",
    "\n",
    "counter = 34 # for progress line width\n",
    "scalar = w / float(35) # also for progress line width\n",
    "\n",
    "for i in range(len(files)):\n",
    "    pathstring = files[i]\n",
    "    base = os.path.basename(pathstring)\n",
    "    \n",
    "    lbl = labels[counter]\n",
    "    im = Image.open(pathstring)\n",
    "    \n",
    "    draw = ImageDraw.Draw(im)\n",
    "    \n",
    "    # month.year label\n",
    "    draw.text((90,681),text=lbl,font=font,fill=\"hsl(0,0%,25%)\") # same as continents\n",
    "    \n",
    "    # progress line\n",
    "    draw.line([(90,756),(int(90+counter*scalar),756)],fill=\"hsl(0,0%,25%)\",width=4) # same as continents\n",
    "    \n",
    "    im.save(CALLOUTS+base)"
   ]
  },
  {
   "cell_type": "code",
   "execution_count": null,
   "metadata": {
    "collapsed": true
   },
   "outputs": [],
   "source": []
  }
 ],
 "metadata": {
  "kernelspec": {
   "display_name": "Python 2",
   "language": "python",
   "name": "python2"
  },
  "language_info": {
   "codemirror_mode": {
    "name": "ipython",
    "version": 2
   },
   "file_extension": ".py",
   "mimetype": "text/x-python",
   "name": "python",
   "nbconvert_exporter": "python",
   "pygments_lexer": "ipython2",
   "version": "2.7.10"
  }
 },
 "nbformat": 4,
 "nbformat_minor": 0
}
