{
 "cells": [
  {
   "cell_type": "code",
   "execution_count": 1,
   "metadata": {},
   "outputs": [],
   "source": [
    "import pandas as pd\n",
    "import numpy as np\n",
    "from PIL import Image\n",
    "import ast"
   ]
  },
  {
   "cell_type": "code",
   "execution_count": 2,
   "metadata": {},
   "outputs": [],
   "source": [
    "tablepath = \"/Users/damoncrockett/twitter-atlas/tables/tagged-sample.csv\"\n",
    "df = pd.read_csv(tablepath)"
   ]
  },
  {
   "cell_type": "code",
   "execution_count": 3,
   "metadata": {},
   "outputs": [],
   "source": [
    "def liteval(col):\n",
    "    return [ast.literal_eval(item) for item in col]"
   ]
  },
  {
   "cell_type": "code",
   "execution_count": 4,
   "metadata": {},
   "outputs": [],
   "source": [
    "df.iloc[:,19:24] = df.iloc[:,19:24].apply(liteval)"
   ]
  },
  {
   "cell_type": "markdown",
   "metadata": {},
   "source": [
    "#### Let's get a list of all tags"
   ]
  },
  {
   "cell_type": "code",
   "execution_count": 5,
   "metadata": {},
   "outputs": [],
   "source": [
    "def tagpull(taglist):\n",
    "    return [item[0] for item in taglist]"
   ]
  },
  {
   "cell_type": "code",
   "execution_count": 6,
   "metadata": {},
   "outputs": [],
   "source": [
    "def tagpuller(col):\n",
    "    l = list(col.apply(tagpull))\n",
    "    return set([item for sublist in l for item in sublist])"
   ]
  },
  {
   "cell_type": "code",
   "execution_count": 7,
   "metadata": {},
   "outputs": [],
   "source": [
    "taglist = list(\n",
    "    set.union(\n",
    "        tagpuller(df.vgg16),\n",
    "        tagpuller(df.vgg19),\n",
    "        tagpuller(df.inception),\n",
    "        tagpuller(df.xception),\n",
    "        tagpuller(df.resnet)\n",
    "    )\n",
    ")"
   ]
  },
  {
   "cell_type": "code",
   "execution_count": 8,
   "metadata": {},
   "outputs": [],
   "source": [
    "vgg16 = pd.DataFrame(index=df.index)\n",
    "vgg19 = pd.DataFrame(index=df.index)\n",
    "inception = pd.DataFrame(index=df.index)\n",
    "xception = pd.DataFrame(index=df.index)\n",
    "resnet = pd.DataFrame(index=df.index)"
   ]
  },
  {
   "cell_type": "code",
   "execution_count": 9,
   "metadata": {},
   "outputs": [],
   "source": [
    "for tag in taglist:\n",
    "    vgg16[tag] = 0\n",
    "    vgg19[tag] = 0\n",
    "    inception[tag] = 0\n",
    "    xception[tag] = 0\n",
    "    resnet[tag] = 0"
   ]
  },
  {
   "cell_type": "code",
   "execution_count": 10,
   "metadata": {},
   "outputs": [],
   "source": [
    "def filler(X,Xstr):\n",
    "    for i in range(len(df)):\n",
    "        tags = df[Xstr].loc[i]\n",
    "        for tag in tags:\n",
    "            X[tag[0]].loc[i] = tag[1]"
   ]
  },
  {
   "cell_type": "code",
   "execution_count": 11,
   "metadata": {},
   "outputs": [
    {
     "name": "stderr",
     "output_type": "stream",
     "text": [
      "/Users/damoncrockett/tensorflow/lib/python2.7/site-packages/pandas/core/indexing.py:179: SettingWithCopyWarning: \n",
      "A value is trying to be set on a copy of a slice from a DataFrame\n",
      "\n",
      "See the caveats in the documentation: http://pandas.pydata.org/pandas-docs/stable/indexing.html#indexing-view-versus-copy\n",
      "  self._setitem_with_indexer(indexer, value)\n"
     ]
    }
   ],
   "source": [
    "filler(vgg16,'vgg16')\n",
    "filler(vgg19,'vgg19')\n",
    "filler(inception,'inception')\n",
    "filler(xception,'xception')\n",
    "filler(resnet,'resnet')"
   ]
  },
  {
   "cell_type": "code",
   "execution_count": 14,
   "metadata": {},
   "outputs": [],
   "source": [
    "DIR = \"/Users/damoncrockett/twitter-atlas/tables/\""
   ]
  },
  {
   "cell_type": "code",
   "execution_count": 15,
   "metadata": {},
   "outputs": [],
   "source": [
    "vgg16.to_csv(DIR+\"sample-vgg16.csv\",index=False)\n",
    "vgg19.to_csv(DIR+\"sample-vgg19.csv\",index=False)\n",
    "inception.to_csv(DIR+\"sample-inception.csv\",index=False)\n",
    "xception.to_csv(DIR+\"sample-xception.csv\",index=False)\n",
    "resnet.to_csv(DIR+\"sample-resnet.csv\",index=False)"
   ]
  },
  {
   "cell_type": "code",
   "execution_count": null,
   "metadata": {},
   "outputs": [],
   "source": []
  }
 ],
 "metadata": {
  "kernelspec": {
   "display_name": "Python 2",
   "language": "python",
   "name": "python2"
  },
  "language_info": {
   "codemirror_mode": {
    "name": "ipython",
    "version": 2
   },
   "file_extension": ".py",
   "mimetype": "text/x-python",
   "name": "python",
   "nbconvert_exporter": "python",
   "pygments_lexer": "ipython2",
   "version": "2.7.10"
  }
 },
 "nbformat": 4,
 "nbformat_minor": 2
}
