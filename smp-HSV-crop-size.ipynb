{
 "cells": [
  {
   "cell_type": "code",
   "execution_count": 1,
   "metadata": {
    "collapsed": true
   },
   "outputs": [],
   "source": [
    "import pandas as pd"
   ]
  },
  {
   "cell_type": "code",
   "execution_count": 2,
   "metadata": {
    "collapsed": true
   },
   "outputs": [],
   "source": [
    "df = pd.read_csv(\"./phew.csv\")"
   ]
  },
  {
   "cell_type": "code",
   "execution_count": 3,
   "metadata": {
    "collapsed": false
   },
   "outputs": [
    {
     "name": "stdout",
     "output_type": "stream",
     "text": [
      "<class 'pandas.core.frame.DataFrame'>\n",
      "RangeIndex: 867842 entries, 0 to 867841\n",
      "Data columns (total 3 columns):\n",
      "basename      867842 non-null object\n",
      "local_path    867842 non-null object\n",
      "secpast       867842 non-null int64\n",
      "dtypes: int64(1), object(2)\n",
      "memory usage: 19.9+ MB\n"
     ]
    }
   ],
   "source": [
    "df.info()"
   ]
  },
  {
   "cell_type": "code",
   "execution_count": 4,
   "metadata": {
    "collapsed": true
   },
   "outputs": [],
   "source": [
    "from skimage.io import imread\n",
    "from skimage import color\n",
    "import numpy as np\n",
    "from PIL import Image"
   ]
  },
  {
   "cell_type": "code",
   "execution_count": 5,
   "metadata": {
    "collapsed": true
   },
   "outputs": [],
   "source": [
    "hue = []\n",
    "sat = []\n",
    "val = []\n",
    "width = []\n",
    "height = []"
   ]
  },
  {
   "cell_type": "code",
   "execution_count": 6,
   "metadata": {
    "collapsed": false
   },
   "outputs": [
    {
     "name": "stdout",
     "output_type": "stream",
     "text": [
      "242257 /Users/damoncrockett/Desktop/data/damoncrockett/twitter-atlas/london_2012_sample_slices/A636XQUCIAA5POp_04_21.png\n",
      "258611 /Users/damoncrockett/Desktop/data/damoncrockett/twitter-atlas/london_2012_sample_slices/A6jm5B0CYAEaTrV_05_11.png\n",
      "269592 /Users/damoncrockett/Desktop/data/damoncrockett/twitter-atlas/london_2012_sample_slices/A6S80DACAAEW6C6_16_05.png\n",
      "547890 /Users/damoncrockett/Desktop/data/damoncrockett/twitter-atlas/london_2012_sample_slices/AoXp6UYCIAALwzv_13_04.png\n",
      "695095 /Users/damoncrockett/Desktop/data/damoncrockett/twitter-atlas/london_2012_sample_slices/AuZB9hnCEAE7FmI_09_02.png\n",
      "806842 /Users/damoncrockett/Desktop/data/damoncrockett/twitter-atlas/london_2012_sample_slices/AyJyxsMCIAAY8wU_18_22.png\n",
      "823922 /Users/damoncrockett/Desktop/data/damoncrockett/twitter-atlas/london_2012_sample_slices/AyvZ-bnCAAAcknt_21_11.png\n"
     ]
    }
   ],
   "source": [
    "counter=-1\n",
    "for local_path in df.local_path:\n",
    "    counter+=1\n",
    "    if np.random.binomial(1,0.00001)==1:\n",
    "        print counter, local_path\n",
    "    \n",
    "    # cropping and getting size\n",
    "    \n",
    "    try:\n",
    "        im = Image.open(local_path)\n",
    "        w = im.width\n",
    "        h = im.height\n",
    "\n",
    "        if w > h:\n",
    "            im = im.crop((0,0,h,h))\n",
    "            im.save(local_path)\n",
    "        elif h > w:\n",
    "            im = im.crop((0,h-w,w,h))\n",
    "            im.save(local_path)\n",
    "        elif h == w:\n",
    "            pass\n",
    "        \n",
    "        w = im.width # need to do again bc we just cropped\n",
    "        h = im.height # need to do again bc we just cropped\n",
    "        \n",
    "        width.append(w)\n",
    "        height.append(h)\n",
    "    \n",
    "    except Exception as e:\n",
    "        print e\n",
    "        width.append('unknown')\n",
    "        height.append('unknown')\n",
    "\n",
    "    \n",
    "    # hsv on cropped image, now re-saved\n",
    "    \n",
    "    try:\n",
    "        img = imread(local_path)\n",
    "        \n",
    "        if len(img.shape)==3:\n",
    "\n",
    "            img = color.rgb2hsv(img)\n",
    "            \n",
    "            i_hue = np.mean(img[:,:,0])\n",
    "            hue.append(i_hue)\n",
    "\n",
    "            i_sat = np.mean(img[:,:,1])\n",
    "            sat.append(i_sat)\n",
    "\n",
    "            i_val = np.mean(img[:,:,2])\n",
    "            val.append(i_val)\n",
    "            \n",
    "        else:\n",
    "            \n",
    "            hue.append('bw')\n",
    "            sat.append('bw')\n",
    "            val.append('bw')\n",
    "\n",
    "    except Exception as e:\n",
    "        print e\n",
    "        hue.append('unreadable')\n",
    "        sat.append('unreadable')\n",
    "        val.append('unreadable')"
   ]
  },
  {
   "cell_type": "code",
   "execution_count": 7,
   "metadata": {
    "collapsed": true
   },
   "outputs": [],
   "source": [
    "df['hue'] = hue\n",
    "df['sat'] = sat\n",
    "df['val'] = val\n",
    "df['width'] = width\n",
    "df['height'] = height"
   ]
  },
  {
   "cell_type": "code",
   "execution_count": 12,
   "metadata": {
    "collapsed": false
   },
   "outputs": [],
   "source": [
    "df_trunc = df[df.hue!='bw']"
   ]
  },
  {
   "cell_type": "code",
   "execution_count": 14,
   "metadata": {
    "collapsed": false
   },
   "outputs": [
    {
     "name": "stdout",
     "output_type": "stream",
     "text": [
      "<class 'pandas.core.frame.DataFrame'>\n",
      "Int64Index: 865583 entries, 0 to 867841\n",
      "Data columns (total 8 columns):\n",
      "basename      865583 non-null object\n",
      "local_path    865583 non-null object\n",
      "secpast       865583 non-null int64\n",
      "hue           865583 non-null object\n",
      "sat           865583 non-null object\n",
      "val           865583 non-null object\n",
      "width         865583 non-null int64\n",
      "height        865583 non-null int64\n",
      "dtypes: int64(3), object(5)\n",
      "memory usage: 59.4+ MB\n"
     ]
    }
   ],
   "source": [
    "df_trunc.info()"
   ]
  },
  {
   "cell_type": "code",
   "execution_count": 15,
   "metadata": {
    "collapsed": true
   },
   "outputs": [],
   "source": [
    "df_trunc.to_csv(\"./phew_hsv_crop_no-bw.csv\",index=False)"
   ]
  },
  {
   "cell_type": "code",
   "execution_count": null,
   "metadata": {
    "collapsed": true
   },
   "outputs": [],
   "source": []
  }
 ],
 "metadata": {
  "kernelspec": {
   "display_name": "Python 2",
   "language": "python",
   "name": "python2"
  },
  "language_info": {
   "codemirror_mode": {
    "name": "ipython",
    "version": 2
   },
   "file_extension": ".py",
   "mimetype": "text/x-python",
   "name": "python",
   "nbconvert_exporter": "python",
   "pygments_lexer": "ipython2",
   "version": "2.7.10"
  }
 },
 "nbformat": 4,
 "nbformat_minor": 0
}
