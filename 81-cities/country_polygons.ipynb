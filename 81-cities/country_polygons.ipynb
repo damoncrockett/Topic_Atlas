{
 "cells": [
  {
   "cell_type": "code",
   "execution_count": 1,
   "metadata": {
    "collapsed": true
   },
   "outputs": [],
   "source": [
    "import shapefile\n",
    "#DIR = \"/Users/damoncrockett/Desktop/Twitter_Global_Viz/\"\n",
    "#FILE = \"TM_WORLD_BORDERS-0.3/TM_WORLD_BORDERS-0.3.shp\"\n",
    "DIR = \"/Users/damoncrockett/Desktop/Twitter_Global_Viz/\"\n",
    "FILE = \"world_country/world_country.shp\"\n",
    "\n",
    "polygons_sf = shapefile.Reader(DIR+FILE)\n",
    "records = polygons_sf.records()\n",
    "polygon_shapes = polygons_sf.shapes()\n",
    "polygon_points = [q.points for q in polygon_shapes]"
   ]
  },
  {
   "cell_type": "code",
   "execution_count": 4,
   "metadata": {
    "collapsed": true
   },
   "outputs": [],
   "source": [
    "country_names = [item[5] for item in records]"
   ]
  },
  {
   "cell_type": "code",
   "execution_count": 50,
   "metadata": {
    "collapsed": true
   },
   "outputs": [],
   "source": [
    "from shapely.geometry import Point, Polygon\n",
    "polygon_list = [Polygon(item) for item in polygon_points]\n",
    "\n",
    "from rtree import index\n",
    "idx = index.Index()\n",
    "count = -1\n",
    "for item in polygon_list:\n",
    "    count +=1\n",
    "    idx.insert(count, item.bounds)"
   ]
  },
  {
   "cell_type": "code",
   "execution_count": null,
   "metadata": {
    "collapsed": true
   },
   "outputs": [],
   "source": []
  },
  {
   "cell_type": "code",
   "execution_count": null,
   "metadata": {
    "collapsed": true
   },
   "outputs": [],
   "source": []
  }
 ],
 "metadata": {
  "kernelspec": {
   "display_name": "Python 2",
   "language": "python",
   "name": "python2"
  },
  "language_info": {
   "codemirror_mode": {
    "name": "ipython",
    "version": 2
   },
   "file_extension": ".py",
   "mimetype": "text/x-python",
   "name": "python",
   "nbconvert_exporter": "python",
   "pygments_lexer": "ipython2",
   "version": "2.7.10"
  }
 },
 "nbformat": 4,
 "nbformat_minor": 0
}
